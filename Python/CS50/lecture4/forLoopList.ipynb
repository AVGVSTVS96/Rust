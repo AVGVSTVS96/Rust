{
 "cells": [
  {
   "cell_type": "code",
   "execution_count": 5,
   "metadata": {},
   "outputs": [
    {
     "name": "stdout",
     "output_type": "stream",
     "text": [
      "['ace', 'king', 'queen', 'jack']\n"
     ]
    }
   ],
   "source": [
    "import random\n",
    "\n",
    "cards = [\"jack\", \"queen\", \"king\", \"ace\"]\n",
    "random.shuffle(cards)\n",
    "print(cards)  "
   ]
  },
  {
   "cell_type": "code",
   "execution_count": null,
   "metadata": {},
   "outputs": [],
   "source": [
    "import random\n",
    "\n",
    "cards = [\"jack\", \"queen\", \"king\", \"ace\"]\n",
    "random.shuffle(cards)\n",
    "for card in cards:  # use for loop to iterate over list\n",
    "    print(card)"
   ]
  },
  {
   "attachments": {},
   "cell_type": "markdown",
   "metadata": {},
   "source": [
    "#  **sys.argv**\n",
    "### Function from sys library that creates a variable as list from words input at command line when the program is run"
   ]
  },
  {
   "cell_type": "code",
   "execution_count": null,
   "metadata": {},
   "outputs": [],
   "source": [
    "import sys\n",
    "\n",
    "print(\"hello, my name is\", sys.argv[1])"
   ]
  },
  {
   "attachments": {},
   "cell_type": "markdown",
   "metadata": {},
   "source": [
    "# **Create exception to handle no input**"
   ]
  },
  {
   "cell_type": "code",
   "execution_count": null,
   "metadata": {},
   "outputs": [],
   "source": [
    "import sys\n",
    "\n",
    "try:\n",
    "\tprint(\"hello, my name is\", sys.argv[1])\n",
    "except IndexError:\n",
    "\tprint(\"Too few arguments\")"
   ]
  },
  {
   "attachments": {},
   "cell_type": "markdown",
   "metadata": {},
   "source": [
    "# **Handling errors without exceptions**"
   ]
  },
  {
   "cell_type": "code",
   "execution_count": null,
   "metadata": {},
   "outputs": [],
   "source": [
    "import sys\n",
    "\n",
    "if len(sys.argv) < 2:\n",
    "\tprint(\"Too few arguments\") \n",
    "elif len(sys.argv) > 2:\n",
    "\tprint(\"Too many arguments\")\n",
    "else:\n",
    "\tprint(\"hello, my name is\", sys.argv[1])"
   ]
  },
  {
   "attachments": {},
   "cell_type": "markdown",
   "metadata": {},
   "source": [
    "# **Seperating error handling from main funcitons**\n"
   ]
  },
  {
   "cell_type": "code",
   "execution_count": null,
   "metadata": {},
   "outputs": [],
   "source": [
    "import sys\n",
    "\n",
    "if len(sys.argv) < 2:\n",
    "\tprint(\"Too few arguments\")\n",
    "elif len(sys.argv) > 2:\n",
    "\tprint(\"Too many arguments\")\n",
    "\n",
    "print(\"hello, my name is\", sys.argv[1])"
   ]
  },
  {
   "attachments": {},
   "cell_type": "markdown",
   "metadata": {},
   "source": [
    "```\n",
    "use sys.exit instead to output a string before exiting"
   ]
  },
  {
   "cell_type": "code",
   "execution_count": null,
   "metadata": {},
   "outputs": [],
   "source": [
    "import sys\n",
    "\n",
    "if len(sys.argv) < 2:\n",
    "\tsys.exit(\"Too few arguments\")\n",
    "elif len(sys.argv) > 2:\n",
    "\tsys.exit(\"Too many arguments\")\n",
    "\n",
    "print(\"hello, my name is\", sys.argv[1])"
   ]
  },
  {
   "attachments": {},
   "cell_type": "markdown",
   "metadata": {},
   "source": [
    "# **Input multiple arguments**"
   ]
  },
  {
   "cell_type": "code",
   "execution_count": null,
   "metadata": {},
   "outputs": [],
   "source": [
    "import sys\n",
    "\n",
    "if len(sys.argv) < 2:\n",
    "\tprint(\"Too few arguments\")\n",
    "for arg in sys.argv[1:]:\n",
    "\tprint(\"hello, my name is\", arg)"
   ]
  },
  {
   "attachments": {},
   "cell_type": "markdown",
   "metadata": {},
   "source": [
    "``` \n",
    "[1:] slices the program name/first item off the list\n",
    "\n",
    "[1:-1] slices the first and last item off the list"
   ]
  }
 ],
 "metadata": {
  "kernelspec": {
   "display_name": "Python 3",
   "language": "python",
   "name": "python3"
  },
  "language_info": {
   "codemirror_mode": {
    "name": "ipython",
    "version": 3
   },
   "file_extension": ".py",
   "mimetype": "text/x-python",
   "name": "python",
   "nbconvert_exporter": "python",
   "pygments_lexer": "ipython3",
   "version": "3.9.6"
  },
  "orig_nbformat": 4,
  "vscode": {
   "interpreter": {
    "hash": "31f2aee4e71d21fbe5cf8b01ff0e069b9275f58929596ceb00d14d90e3e16cd6"
   }
  }
 },
 "nbformat": 4,
 "nbformat_minor": 2
}
